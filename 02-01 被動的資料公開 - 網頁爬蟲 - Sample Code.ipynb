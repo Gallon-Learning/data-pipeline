{
 "cells": [
  {
   "cell_type": "markdown",
   "id": "210fd89f",
   "metadata": {},
   "source": [
    "# 02-01 被動的資料公開 - 網頁爬蟲"
   ]
  },
  {
   "cell_type": "markdown",
   "id": "9f78e81a",
   "metadata": {},
   "source": [
    "## 發送請求 → 接收回應 → 解析 → 整理"
   ]
  },
  {
   "cell_type": "code",
   "execution_count": 1,
   "id": "61fcd4ea",
   "metadata": {},
   "outputs": [
    {
     "name": "stdout",
     "output_type": "stream",
     "text": [
      "<html>\n",
      "<head>\n",
      "<title>The Links</title>\n",
      "</head>\n",
      "<body>\n",
      "<p class=\"title\" id=\"title\">\n",
      "<b>The Links</b>\n",
      "</p>\n",
      "<p class=\"links\">\n",
      "<a class=\"link\" href=\"http://example.com/link1\" id=\"link1\">\n",
      "        Link 1\n",
      "      </a>,\n",
      "      <a class=\"link\" href=\"http://example.com/link2\" id=\"link2\">\n",
      "        Link 2\n",
      "      </a>,\n",
      "      <a class=\"link\" href=\"http://example.com/link3\" id=\"link3\">\n",
      "        Link 3\n",
      "      </a>\n",
      "</p>\n",
      "<p class=\"footer\">\n",
      "      ---- Footer ----\n",
      "    </p>\n",
      "</body>\n",
      "</html>\n",
      "\n"
     ]
    }
   ],
   "source": [
    "import requests\n",
    "\n",
    "url = 'https://sample.v123582.repl.co/'\n",
    "r = requests.get(url)\n",
    "response = r.text\n",
    "\n",
    "from bs4 import BeautifulSoup\n",
    "d = BeautifulSoup(r.text)\n",
    "print(d)\n"
   ]
  },
  {
   "cell_type": "markdown",
   "id": "13df0c3e",
   "metadata": {},
   "source": [
    "### 比較一下「解析前」和「解析後」的差異"
   ]
  },
  {
   "cell_type": "code",
   "execution_count": 2,
   "id": "2b72577b",
   "metadata": {},
   "outputs": [
    {
     "name": "stdout",
     "output_type": "stream",
     "text": [
      "<class 'str'>\n"
     ]
    }
   ],
   "source": [
    "print(type(response))"
   ]
  },
  {
   "cell_type": "code",
   "execution_count": 3,
   "id": "a2751e16",
   "metadata": {},
   "outputs": [
    {
     "name": "stdout",
     "output_type": "stream",
     "text": [
      "<class 'bs4.BeautifulSoup'>\n"
     ]
    }
   ],
   "source": [
    "print(type(d))"
   ]
  },
  {
   "cell_type": "markdown",
   "id": "697c7378",
   "metadata": {},
   "source": [
    "## BeautifulSoup 用法"
   ]
  },
  {
   "cell_type": "code",
   "execution_count": 4,
   "id": "236b6a12",
   "metadata": {},
   "outputs": [
    {
     "data": {
      "text/plain": [
       "'The Links'"
      ]
     },
     "execution_count": 4,
     "metadata": {},
     "output_type": "execute_result"
    }
   ],
   "source": [
    "## ① The Links: 第一個 id = title 的 p 標籤\n",
    "\n",
    "d.find('p', id = 'title').b.text"
   ]
  },
  {
   "cell_type": "code",
   "execution_count": 5,
   "id": "a7c15a2c",
   "metadata": {},
   "outputs": [
    {
     "data": {
      "text/plain": [
       "'http://example.com/link2'"
      ]
     },
     "execution_count": 5,
     "metadata": {},
     "output_type": "execute_result"
    }
   ],
   "source": [
    "## ② Link 2: 找出第二個 class = link 的 a 標籤的網址\n",
    "\n",
    "d.find_all('a', class_ = 'link')[1]['href']\n",
    "d.find('a', id = 'link2')['href']"
   ]
  },
  {
   "cell_type": "code",
   "execution_count": 6,
   "id": "0fbe2260",
   "metadata": {},
   "outputs": [
    {
     "name": "stdout",
     "output_type": "stream",
     "text": [
      "Link 1 http://example.com/link1\n",
      "Link 2 http://example.com/link2\n",
      "Link 3 http://example.com/link3\n"
     ]
    }
   ],
   "source": [
    "## ③ Link 1, … Link 3: 找出所有連結的內容\n",
    "\n",
    "for l in d.find_all('a'):\n",
    "    print(l.text.strip(), l['href'])"
   ]
  },
  {
   "cell_type": "code",
   "execution_count": null,
   "id": "7b4a1cde",
   "metadata": {},
   "outputs": [],
   "source": []
  },
  {
   "cell_type": "code",
   "execution_count": null,
   "id": "558ec740",
   "metadata": {},
   "outputs": [],
   "source": []
  },
  {
   "cell_type": "code",
   "execution_count": null,
   "id": "d564afce",
   "metadata": {},
   "outputs": [],
   "source": []
  }
 ],
 "metadata": {
  "kernelspec": {
   "display_name": "Python 3.7.6 ('base')",
   "language": "python",
   "name": "python3"
  },
  "language_info": {
   "codemirror_mode": {
    "name": "ipython",
    "version": 3
   },
   "file_extension": ".py",
   "mimetype": "text/x-python",
   "name": "python",
   "nbconvert_exporter": "python",
   "pygments_lexer": "ipython3",
   "version": "3.7.6"
  },
  "vscode": {
   "interpreter": {
    "hash": "ad2bdc8ecc057115af97d19610ffacc2b4e99fae6737bb82f5d7fb13d2f2c186"
   }
  }
 },
 "nbformat": 4,
 "nbformat_minor": 5
}
